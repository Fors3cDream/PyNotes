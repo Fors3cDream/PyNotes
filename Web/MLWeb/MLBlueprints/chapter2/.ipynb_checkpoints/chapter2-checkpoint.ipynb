{
 "cells": [
  {
   "cell_type": "code",
   "execution_count": 1,
   "metadata": {},
   "outputs": [
    {
     "data": {
      "text/plain": [
       "Index(['routablemask_link', 'routablemask_link/_text',\n",
       "       'routablemask_link/_title', 'routablemask_link_numbers',\n",
       "       'routablemask_content', 'imagebadge_value', 'imagebadge_value_numbers',\n",
       "       'routable_link', 'routable_link/_text', 'routable_link/_title',\n",
       "       'routable_link_numbers', 'listingtype_value', 'pricelarge_value',\n",
       "       'pricelarge_value_prices', 'propertyinfo_value',\n",
       "       'propertyinfo_value_numbers', 'fineprint_value',\n",
       "       'fineprint_value_numbers', 'tozcount_number', 'tozfresh_value',\n",
       "       'tablegrouped_values', 'tablegrouped_values_prices', '_PAGE_NUMBER'],\n",
       "      dtype='object')"
      ]
     },
     "execution_count": 1,
     "metadata": {},
     "output_type": "execute_result"
    }
   ],
   "source": [
    "import pandas as pd\n",
    "import re\n",
    "import numpy as np\n",
    "import matplotlib.pyplot as plt\n",
    "\n",
    "plt.style.use('ggplot')\n",
    "%matplotlib inline\n",
    "\n",
    "pd.set_option(\"display.max_columns\", 30)\n",
    "pd.set_option(\"display.max_colwidth\", 100)\n",
    "pd.set_option(\"display.precision\", 3)\n",
    "\n",
    "CSV_PATH = r\"/Users/killer/work_station/PyLearn/Web/MLWeb/MLBlueprints/chapter2/magic.csv\"\n",
    "\n",
    "df = pd.read_csv(CSV_PATH)\n",
    "df.columns"
   ]
  },
  {
   "cell_type": "code",
   "execution_count": null,
   "metadata": {},
   "outputs": [],
   "source": []
  }
 ],
 "metadata": {
  "kernelspec": {
   "display_name": "Python 3",
   "language": "python",
   "name": "python3"
  },
  "language_info": {
   "codemirror_mode": {
    "name": "ipython",
    "version": 3
   },
   "file_extension": ".py",
   "mimetype": "text/x-python",
   "name": "python",
   "nbconvert_exporter": "python",
   "pygments_lexer": "ipython3",
   "version": "3.4.2rc1"
  }
 },
 "nbformat": 4,
 "nbformat_minor": 2
}
